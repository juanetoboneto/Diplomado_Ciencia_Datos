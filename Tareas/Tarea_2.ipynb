{
 "cells": [
  {
   "cell_type": "markdown",
   "id": "9b2bc5d2",
   "metadata": {
    "slideshow": {
     "slide_type": "slide"
    }
   },
   "source": [
    "# Ciencia de Datos: *El Coeficiente de Correlación*\n",
    "\n"
   ]
  },
  {
   "cell_type": "markdown",
   "id": "4957be6d",
   "metadata": {
    "slideshow": {
     "slide_type": "subslide"
    }
   },
   "source": [
    "## Autor:\n",
    "* Juan Esteban Orduz Chavez \n",
    "  - Estudiante de Matemáticas de la Universidad Distrital Francisco José de Caldas y cursante del Diplomado en Ciencia de Datos de la Universidad Nacional de Colombia\n",
    "  - Correo: juaneschavez31@gmail.com"
   ]
  },
  {
   "cell_type": "markdown",
   "id": "815ca978",
   "metadata": {
    "slideshow": {
     "slide_type": "slide"
    }
   },
   "source": [
    "## Introducción\n",
    "\n",
    "Dentro de la ciencia de datos, nos encontraremos muchas veces con la necesidad de responder preguntas utilizando información obtenida a partir de un conjunto de datos depurado. Para lograr esto, disponemos de conceptos provenientes de la teoría **Estadística**, los cuales podremos implementar mediante herramientas de **Software**. En esta clase, estudiaremos el concepto de *Coeficiente de Correlación* de la estadística, su definición, qué representa y cómo y para qué se usa.\n",
    "\n",
    "Presentaremos cómo se pueden utilizar herramientas de software, más específicamente **Python**, para implementarlo en nuestros proyectos si es necesario. Asumimos que el lector tiene los conocimientos básicos de variable aleatoria y esperanza matemática, así como las utilidades básicas de Python. Cabe aclarar que toda la siguiente explicación se limita únicamente a variables aleatorias discretas.\n",
    "\n",
    "![imagen](https://www.icog.es/cursos/wp-content/uploads/2020/09/phyton.png)"
   ]
  },
  {
   "cell_type": "markdown",
   "id": "65ece2be",
   "metadata": {
    "slideshow": {
     "slide_type": "slide"
    }
   },
   "source": [
    "## Preliminares\n",
    "\n",
    "### La Esperanza Matemática\n",
    "También conocida como *Media Poblacional* o simplemente *Media*, esta representa el **Valor Medio** de alguna variable aleatoria $X$; es decir, una medida de tendencia central que resulta en el valor mas \"recurrente\" o \"típico\" alrededor del cual se agrupan una gran cantidad de puntos muestrales.\n",
    "\n",
    "Formalmente, si $X$ es una variable aleatoria con distribución de probabilidad $f(x)$, donde los $x$ son puntos muestrales de $X$. La **Media** o **Valor Esperado** de $X$ es\n",
    "\n",
    "$$\\mu=E(X)=\\sum_{i=1}^{n}x_if(x_i)$$\n",
    "\n",
    "En el caso donde podamos asumir que todos los sucesos tienen la misma probabilidad de ocurrir, dicha esperanza equivale con la **Media Aritmética**\n",
    "\n",
    "$$\\mu=E(X)=\\sum_{i=1}^{n}\\frac{x_i}{n}$$\n",
    "\n",
    "Esta coincidencia entre la Esperanza y el **Promedio** nos será útil para calcular la Desviación Estándar y el Coeficiente de Correlación para listas de un solo vector más adelante.\n",
    " \n",
    "### La Desviación Estándar\n",
    "Ya vimos una propiedad que nos muestra una *Medida de Tendencia Central*, ahora buscamos explicar la Desviación Estándar. Esta es una medida que nos permite observar la *Variabilidad* de un conjunto de datos, lo cual significa que nos permitira saber que tan \"lejos\" estan los puntos muestrales del **Valor Medio** o bien que tan \"distantes\" están dichos puntos entre ellos. \n",
    "\n",
    "Así, sea $X$ una variable aleatoria con distribución de probabilidad $f(x)$ y media $\\mu$. La Desviación Estándar o también llamada **Varianza** de $X$ es\n",
    "\n",
    "$$\\sigma^2=E[(X-\\mu)^2]=\\sum_{i=1}^{n}(x_i-\\mu)^2f(x)$$\n"
   ]
  },
  {
   "cell_type": "markdown",
   "id": "ca5db74c",
   "metadata": {
    "slideshow": {
     "slide_type": "subslide"
    }
   },
   "source": [
    "### Diferencias en la Desviación Estandar y la Desviación Marginal\n",
    "Gracias a la fórmula de Desviación Estándar, si volvemos a asumir que todos los sucesos tienen la misma probabilidad de ocurrir tendremos que diferenciar dos casos. El primero es el que ya conocemos, es decir si este valor se calcula en base a toda la población\n",
    "\n",
    "$$\\sigma=E[(X-\\mu)^2]=\\sqrt{\\frac{1}{n}\\sum_{i=1}^{n}(x_i-\\mu)^2}$$\n",
    "\n",
    "Apartir de esta igualdad, podremos deducir una expresión más practica para calcularlo\n",
    "\n",
    "$$\\sigma^2=E(X^2)-\\mu^2$$\n",
    "\n",
    "En el caso de no tomar toda la población si no solo una muestra entonces se tendrá\n",
    "\n",
    "$$s =\\sqrt{\\frac{1}{n-1}\\sum_{i=1}^{n}(x_i-\\mu)^2}$$\n",
    "\n",
    "Ahora bien, si existen dos listas o vectores en nuestro conjunto de datos podremos relacionarlos mediante la llamada **Desviación Marginal** o **Covariancia**, que es un valor de variabilidad en Espacios Muestrales de más de una dimensión, en el caso de ser bidimencional se dara como sigue:\n",
    "Sean $X$ y $Y$ variables aleatorias con distribución de probabilidad conjunta $f(x,y)$. La **Covarianza** de $X$ y $Y$ es\n",
    "\n",
    "$$\\sigma_{XY}=E[(X-\\mu_X)(Y-\\mu_Y)]=\\sum_{i=1}^{n}\\sum_{j=1}^{m}(x_i-\\mu_X)(y_j-\\mu_Y)f(x,y)$$\n",
    "\n",
    "Pero al igual que antes podremos reducir esto a una igualdad más utíl para nuestros cálculos\n",
    "\n",
    "$$\\sigma_{XY}=E(XY)-\\mu_X\\mu_Y$$"
   ]
  },
  {
   "cell_type": "markdown",
   "id": "e72a3f67",
   "metadata": {
    "slideshow": {
     "slide_type": "slide"
    }
   },
   "source": [
    "## El Coeficiente de Correlación\n",
    "También llamado *Coeficiente de Correlación de Pearson* es (al igual que la desviación marginal) un término que expresa la **Covarianza** en una distribución bidimencional, pero resulta ser mas simple e ilustrativa de dicha covarianza.\n",
    "\n",
    "Sean $X$ y $Y$ variables aleatorias con covarianza $\\sigma_{XY}$ y desviaciones estándar $\\sigma_X$ y $\\sigma_Y$, respectivamente. El **Coeficiente de Correlación** de $X$ y $Y$ es\n",
    "\n",
    "$$\\rho_{XY}=\\frac{\\sigma_{XY}}{\\sigma_X\\sigma_Y}$$\n",
    "\n",
    "Este coeficiente es bastante útil debido a las siguientes razones:\n",
    "\n",
    "* $\\rho_{XY}$ no depende de las unidades con las que se miden tanto $X$ como $Y$.\n",
    "\n",
    "\n",
    "* Este satisface la desigualdad $-1\\leq\\rho_{XY}\\leq1$ y $\\rho_{XY}=0$ cuando $\\sigma_{XY}=0$.\n",
    "\n",
    "* Cuando $\\rho_{XY}=-1$ o bien $\\rho_{XY}=1$ existe, entre $X$ e $Y$ una dependencia lineal exacta, de manera tal que si     $Y\\equiv a+bX$  entonces $\\rho_{XY}=1$ si $b>0$ y $\\rho_{XY}=-1$ si $b<0$.\n",
    "\n",
    "\n",
    "Entonces, si asumimos que todos los sucesos tienen la misma probababilidad de ocurrir y dando porsentado que $X$ e $Y$ poseen el mismo cardinal, obtendremos, reduciendo la fracción obtendremos las fórmulas\n",
    "\n",
    "$$\\rho_{XY}=\\frac{E(XY)-\\mu_X\\mu_Y}{\\sqrt{E(X^2)-\\mu_{X}^{2}}\\sqrt{E(Y^2)-\\mu_{Y}^{2}}}=\\frac{\\sum_{i,j=1}^{n} x_iy_j-\\frac{\\sum_{i=1}^{n}x_i\\cdot\\sum_{j=1}^{n}y_j}{n}}{\\sqrt{\\sum_{i=1}^{n} x_{i}^{2}-\\frac{(\\sum_{i=1}^{n}x_i)^2}{n}} \\sqrt{\\sum_{j=1}^{n}y_{j}^{2}-\\frac{(\\sum_{j=1}^{n}y_j)^2}{n}}}$$\n",
    "\n",
    "Esta última expresión nos será muy útil a la hora de aplicar esta correlación en la práctica. "
   ]
  },
  {
   "cell_type": "markdown",
   "id": "8d181624",
   "metadata": {
    "slideshow": {
     "slide_type": "slide"
    }
   },
   "source": [
    "## Ejemplo en Python\n",
    "Dentro de Python, existen varias formas de calcular el Coeficiente de Correlación. Vamos a ilustrar un problema práctico con pocos datos para mostrar algunos de estos métodos:\n",
    "\n",
    "Una tienda de zapatos quiere conocer qué tan relacionada está la edad de sus clientes con la cantidad de pares de zapatos que se compran a lo largo del mes. A través de un **Estudio Observacional** en la tienda, se tomaron y depuraron datos de los clientes, más específicamente su edad y la cantidad de pares de zapatos que compraron a lo largo del mes.\n",
    "\n",
    "Buscamos ver si existe una correlación entre estas dos variables. Para ello, utilizaremos los resultados de dicho estudio que se ven en el siguiente *Array*, donde están agrupadas la Edad y la Cantidad de zapatos por cliente:"
   ]
  },
  {
   "cell_type": "code",
   "execution_count": 6,
   "id": "70fb661d",
   "metadata": {
    "slideshow": {
     "slide_type": "subslide"
    }
   },
   "outputs": [
    {
     "name": "stdout",
     "output_type": "stream",
     "text": [
      "[[28  2]\n",
      " [32  0]\n",
      " [27  5]\n",
      " [19  0]\n",
      " [67  1]\n",
      " [55  6]\n",
      " [70  0]\n",
      " [60  2]\n",
      " [23  1]\n",
      " [24  6]\n",
      " [52  5]\n",
      " [23  3]\n",
      " [52  6]\n",
      " [30  3]\n",
      " [43  4]\n",
      " [62  4]\n",
      " [27  3]\n",
      " [49  3]\n",
      " [67  0]\n",
      " [42  5]\n",
      " [55  6]\n",
      " [61  0]\n",
      " [34  1]\n",
      " [33  4]\n",
      " [43  4]\n",
      " [24  1]\n",
      " [44  3]\n",
      " [61  0]\n",
      " [50  0]\n",
      " [56  5]]\n"
     ]
    }
   ],
   "source": [
    "#En esta situación voy a crear un array que represente una cantidad pequeña de datos ya depurados y limpiados.\n",
    "#Para ello utilizare las librerias de NumPy:\n",
    "import numpy as np\n",
    "\n",
    "#Generar datos aleatorios para edad y número de zapatos utilizando NumPy\n",
    "edad = np.random.randint(18, 71, size=30)\n",
    "num_zapatos = np.random.randint(0, 7, size=30)\n",
    "\n",
    "# Crear el array combinando ambas variables\n",
    "datos = np.column_stack((edad, num_zapatos))\n",
    "\n",
    "# Imprimir el array generado\n",
    "print(datos)"
   ]
  },
  {
   "cell_type": "markdown",
   "id": "5e9662d0",
   "metadata": {
    "slideshow": {
     "slide_type": "subslide"
    }
   },
   "source": [
    "### Los Distintos Métodos\n",
    "Existen muchos métodos distintos para calcular el coeficiente de correlación 2 a 2 sobre un conjunto de vectores. Esto incluye, por supuesto, construir una función que lo determine a partir de Python \"base\" únicamente. Sin embargo, en este ejemplo en particular aprovecharemos el hecho de que ya tenemos a nuestra disposición la biblioteca NumPy (existen otras bibliotecas como pandas que nos permiten hacer lo mismo también, pero es mejor utilizar la menor cantidad de bibliotecas posibles).\n",
    "\n",
    "Por medio de NumPy, mostraremos 2 métodos distintos para calcular el coeficiente de Pearson, como se muestra a continuación:"
   ]
  },
  {
   "cell_type": "code",
   "execution_count": 7,
   "id": "0a464065",
   "metadata": {
    "slideshow": {
     "slide_type": "subslide"
    }
   },
   "outputs": [
    {
     "name": "stdout",
     "output_type": "stream",
     "text": [
      "-0.06785196487806915\n"
     ]
    }
   ],
   "source": [
    "#Para el primer método utilizaremos los conceptos de desviación estadística y varianza.\n",
    "\n",
    "#Para determinar las desviaciones estandar de cada variable utilizaremos la funcion .std() de NumPy:\n",
    "Estd_Edad = edad.std()\n",
    "Estd_Zap = num_zapatos.std()\n",
    "\n",
    "#Para determinar la Varianza usando NumPy debemos realizar 2 pasos\n",
    "#Primero, determinar la Matriz de Covarianza (ya que esta biblioteca esta pensada para la variación en multiples dimensiones)\n",
    "#Esto lo haremos mediante la función np.cov():\n",
    "Matriz_Covarianza = np.cov(edad, num_zapatos)\n",
    "#De esta matriz extraeremos la primera entrada es decil la que relaciona la edad con el número de zapatos \n",
    "#(Esto en caso de tener más variables):\n",
    "Covarianza = Matriz_Covarianza[0,1]\n",
    "\n",
    "# Gracias a estos elementos podremos calcular el coeficiente de pearson usando la fórmula que vimos:\n",
    "Coef_Pears = Covarianza/(Estd_Edad*Estd_Zap)\n",
    "\n",
    "#Y la podremos ver asi:\n",
    "print(Coef_Pears)"
   ]
  },
  {
   "cell_type": "code",
   "execution_count": 8,
   "id": "f466ff62",
   "metadata": {
    "slideshow": {
     "slide_type": "subslide"
    }
   },
   "outputs": [
    {
     "name": "stdout",
     "output_type": "stream",
     "text": [
      "-0.06559023271546684\n"
     ]
    }
   ],
   "source": [
    "#El segundo método es mucho más sencillo y es utilizando el comando específico de np.corrcoef().\n",
    "#Al igual que la covarianza esta función determina una matriz por estar pensada para muchos vectores:\n",
    "Matriz_Coef = np.corrcoef(edad, num_zapatos)\n",
    "#Como en la varianza, extraemos la primera entrada:\n",
    "Alt_Coef_Pears = Matriz_Coef[0,1]\n",
    "\n",
    "#De donde resulta\n",
    "print(Alt_Coef_Pears)"
   ]
  },
  {
   "cell_type": "markdown",
   "id": "6ca47323",
   "metadata": {
    "slideshow": {
     "slide_type": "slide"
    }
   },
   "source": [
    "# Concluciones y Notas\n",
    "* Este ejemplo nos muestra la importancia de la muestra que tomemos y que esta puede estar sesgada. En este caso, nuestros datos se generaron de manera aleatoria, por lo que el valor del coeficiente de correlación podría haber sido distinto. Debemos tomar en cuenta qué elementos pueden sesgar los datos y, por tanto, nuestras deducciones.\n",
    "* El coeficiente de Pearson nos muestra la posible correlación LINEAL entre dos listas, por lo que no nos es posible usarlo para descartar otros tipos de correlaciones.\n",
    "* La correlación no implica causalidad, y aunque el coeficiente nos diga qué tan relacionados están dos vectores, este no nos dice CÓMO se relacionan ni el PORQUÉ se relacionan. Esto dependerá tanto de otras herramientas estadísticas como de la experiencia y conocimiento del negocio o tema en particular que se esté tratando.\n",
    "* Habrá notado que el coeficiente difiere entre métodos. Esto se debe a las limitaciones de los números en máquina; entre más operaciones realice la máquina, más inexacto será el resultado. Por eso, considero mejor utilizar el segundo método por encima del primero, ya que dicho coeficiente está más cercano al valor real.\n",
    "* No solo se puede usar NumPy para obtener estos resultados, sino que también existen otras bibliotecas (con especial mención a Pandas) que proporcionan las mismas o más herramientas para lo que se busque hacer de manera particular."
   ]
  },
  {
   "cell_type": "markdown",
   "id": "8b11d22a",
   "metadata": {
    "slideshow": {
     "slide_type": "fragment"
    }
   },
   "source": [
    "## Referencias:\n",
    "*  walpole1995. Ronald E. Walpole and Raymond H. Myers and Sharon L. Myers and Keying Ye. Probability \\& Statistics for Engineers \\& Scientists. 1995. Prentice Hall, 9th edition. Upper Saddle River, NJ. 978-0134104925\n",
    "* https://www.researchgate.net/publication/331640788_Tutorial_sobre_el_coeficiente_de_correlacion_lineal_de_Pearson_en_Internet\n",
    "* https://en.wikipedia.org/wiki/Expected_value"
   ]
  }
 ],
 "metadata": {
  "celltoolbar": "Slideshow",
  "kernelspec": {
   "display_name": "Python 3 (ipykernel)",
   "language": "python",
   "name": "python3"
  },
  "language_info": {
   "codemirror_mode": {
    "name": "ipython",
    "version": 3
   },
   "file_extension": ".py",
   "mimetype": "text/x-python",
   "name": "python",
   "nbconvert_exporter": "python",
   "pygments_lexer": "ipython3",
   "version": "3.11.3"
  }
 },
 "nbformat": 4,
 "nbformat_minor": 5
}
