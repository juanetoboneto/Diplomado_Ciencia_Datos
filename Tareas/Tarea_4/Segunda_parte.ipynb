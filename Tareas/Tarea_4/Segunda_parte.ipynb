{
 "cells": [
  {
   "cell_type": "markdown",
   "id": "1f611477-76f0-473e-8ae2-af9de0646802",
   "metadata": {},
   "source": [
    "<html>\n",
    "<head><H1><font color = \"blue\"> Segunda Parte: Clase de Métodos Estadísticos. </font></H1></head>\n",
    "<body>\n",
    "<sub><H2>3: Creando la Clase Estadística.</H2></sub>\n",
    "<p>La siguiente Clase se encargara de leea un Data Frame en formato CSV, calcule las propiedades estadísticas descriptivas básicas de cada variable númerica, entrega el nombre de las variables disponibles y por último regrese media, mediana, desviación, percentiles y crea un historigrama del mismo.\n",
    "<p>Para poder gráficar el historigrama (y no tener que escribir la mayoría de fórmulas con Python base) necesitaremos hacer uso de los módulos de MatPlotLib y Pandas:   \n",
    "</body>\n",
    "</html>"
   ]
  },
  {
   "cell_type": "code",
   "execution_count": 1,
   "id": "4dac1646-15d9-4801-a343-2c6da357bd03",
   "metadata": {
    "tags": []
   },
   "outputs": [],
   "source": [
    "import matplotlib.pyplot as plt\n",
    "import pandas as pd"
   ]
  },
  {
   "cell_type": "code",
   "execution_count": 2,
   "id": "2a13ae46-4741-48ba-9c5b-423a999f10ff",
   "metadata": {
    "tags": []
   },
   "outputs": [],
   "source": [
    "# Ya con la experiencia de la clase anterior podremos construir esta segunda:\n",
    "class CLASE2:\n",
    "    \n",
    "#Usaremos el mismo método del _init_ anterior para leer un CSV raw y procesarlo como un DataFrame de Pandas:\n",
    "    def __init__(self, DataFrameCSV):\n",
    "        self.df = pd.read_csv(DataFrameCSV)\n",
    "\n",
    "#Recordemos que los métodos de una Clase pueden ser entendidos como funciones de Python; asi, nos serviremos de\n",
    "#la funcion .describe() de Pandas, integrandolo a nuestro método de clase (lo cual es un poco trampa), esto tambien lo\n",
    "#haremos con la función del historigrama. Si se quisiera no depender de paquetes externos para ello, basta con reemplazar\n",
    "#dichos genericos por las respectivas fórmulas:  \n",
    "    def estadistica_basica(self, variable):\n",
    "        if variable in self.df.columns:\n",
    "            estadistica = self.df[variable].describe()\n",
    "            return estadistica\n",
    "        else:\n",
    "            return \"Variable no encontrada.\"\n",
    "\n",
    "#Nuestro segundo método se encargara de enlistar las \"columnas\" o mejor dicho Variables de nuestro DataFrame en Pandas:        \n",
    "    def lista_variables(self):\n",
    "        return self.df.columns.tolist()\n",
    "\n",
    "#Este último método se encargara de proveer la información estadística que se pide y además generará un historigrama de\n",
    "#la respectiva variable, para ello agregamos los plot() de tamaño, historigrama y nombres. Además empaquetamos todos\n",
    "#los resultados de información estadistica en el generico diccionario \"resultado\", como sigue: \n",
    "    def historigrama_estadistico(self, variable):\n",
    "        if variable in self.df.columns:\n",
    "            datos_variable = self.df[variable]\n",
    "            \n",
    "            media = datos_variable.mean()\n",
    "            mediana = datos_variable.median()\n",
    "            desviacion_estandar = datos_variable.std()\n",
    "            q25 = datos_variable.quantile(0.25)\n",
    "            q50 = datos_variable.quantile(0.50)\n",
    "            q75 = datos_variable.quantile(0.75)\n",
    "            \n",
    "            plt.figure(figsize=(8, 6))\n",
    "            plt.hist(datos_variable, bins=20, edgecolor='black')\n",
    "            plt.xlabel(variable)\n",
    "            plt.ylabel('Frecuencia')\n",
    "            plt.title('Histograma de ' + variable)\n",
    "            plt.show()\n",
    "            \n",
    "            resultado = {'Media': media,\n",
    "                         'Mediana': mediana,\n",
    "                         'Desviación estándar': desviacion_estandar,\n",
    "                         'Percentil 25 (Q25)': q25,\n",
    "                         'Percentil 50 (Q50)': q50,\n",
    "                         'Percentil 75 (Q75)': q75}\n",
    "            return resultado\n",
    "        else:\n",
    "            return \"Variable no encontrada.\""
   ]
  },
  {
   "cell_type": "markdown",
   "id": "50ef2302-064b-47d7-9429-8589079c5b1f",
   "metadata": {},
   "source": [
    "<html>\n",
    "<body>\n",
    "    Probemos ahora cada una de las funcionalidades de nuestra clase, por orden de los puntos, para nuestros datos iris.csv:\n",
    "</body>\n",
    "</html>"
   ]
  },
  {
   "cell_type": "code",
   "execution_count": 3,
   "id": "ece1dcf1-6413-4752-b86c-b2028bae35e9",
   "metadata": {
    "tags": []
   },
   "outputs": [],
   "source": [
    "#Primero instanciemos el \"iris.csv\":\n",
    "iris_estudiado = CLASE2(\"iris.csv\")"
   ]
  },
  {
   "cell_type": "markdown",
   "id": "bea53dc9-fd3b-4213-8d27-300cb82265a7",
   "metadata": {},
   "source": [
    "<html>\n",
    "<body>\n",
    "    Ahora si, podemos probar nuestros métodos propiamente dichos:\n",
    "</body>\n",
    "</html>"
   ]
  },
  {
   "cell_type": "code",
   "execution_count": 4,
   "id": "18f83a3c-cbe2-4565-bf33-f86e32afce80",
   "metadata": {
    "tags": []
   },
   "outputs": [
    {
     "data": {
      "text/plain": [
       "count    150.000000\n",
       "mean       5.843333\n",
       "std        0.828066\n",
       "min        4.300000\n",
       "25%        5.100000\n",
       "50%        5.800000\n",
       "75%        6.400000\n",
       "max        7.900000\n",
       "Name: sepal.length, dtype: float64"
      ]
     },
     "execution_count": 4,
     "metadata": {},
     "output_type": "execute_result"
    }
   ],
   "source": [
    "#Probando el Método estadistica_basica:\n",
    "iris_estudiado.estadistica_basica(\"sepal.length\")"
   ]
  },
  {
   "cell_type": "code",
   "execution_count": 5,
   "id": "710a39d2-5917-402d-b967-942e541095e1",
   "metadata": {
    "tags": []
   },
   "outputs": [
    {
     "data": {
      "text/plain": [
       "['sepal.length', 'sepal.width', 'petal.length', 'petal.width', 'variety']"
      ]
     },
     "execution_count": 5,
     "metadata": {},
     "output_type": "execute_result"
    }
   ],
   "source": [
    "#Probando el Método lista_variables:\n",
    "iris_estudiado.lista_variables()"
   ]
  },
  {
   "cell_type": "code",
   "execution_count": 6,
   "id": "63374b53-6a9a-49f5-aef9-4896a74e9171",
   "metadata": {
    "tags": []
   },
   "outputs": [
    {
     "data": {
      "image/png": "[encoded data removed]",
      "text/plain": [
       "<Figure size 800x600 with 1 Axes>"
      ]
     },
     "metadata": {},
     "output_type": "display_data"
    },
    {
     "data": {
      "text/plain": [
       "{'Media': 5.843333333333334,\n",
       " 'Mediana': 5.8,\n",
       " 'Desviación estándar': 0.8280661279778629,\n",
       " 'Percentil 25 (Q25)': 5.1,\n",
       " 'Percentil 50 (Q50)': 5.8,\n",
       " 'Percentil 75 (Q75)': 6.4}"
      ]
     },
     "execution_count": 6,
     "metadata": {},
     "output_type": "execute_result"
    }
   ],
   "source": [
    "#Probando el Método historigrama_estadistico:\n",
    "iris_estudiado.historigrama_estadistico(\"sepal.length\")"
   ]
  }
 ],
 "metadata": {
  "kernelspec": {
   "display_name": "Python 3 (ipykernel)",
   "language": "python",
   "name": "python3"
  },
  "language_info": {
   "codemirror_mode": {
    "name": "ipython",
    "version": 3
   },
   "file_extension": ".py",
   "mimetype": "text/x-python",
   "name": "python",
   "nbconvert_exporter": "python",
   "pygments_lexer": "ipython3",
   "version": "3.11.3"
  }
 },
 "nbformat": 4,
 "nbformat_minor": 5
}
