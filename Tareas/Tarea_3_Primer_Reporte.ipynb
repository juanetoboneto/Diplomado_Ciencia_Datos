{
 "cells": [
  {
   "cell_type": "markdown",
   "id": "9b5feb76-772c-411a-a53a-a5c73f658865",
   "metadata": {},
   "source": [
    "<html>\n",
    "<head>\n",
    "<H1><FONT COLOR=\"navy\">Análisis Comparativo y Predicción de Precios de Etherium y Bitcoin mediante Modelos de Series de Tiempo</FONT>\n",
    "</H1>\n",
    "</head>\n",
    "<body>\n",
    "<p>    \n",
    "<sub><H2>\n",
    "Reporte Número 1:\n",
    "</H2></sub>    \n",
    "En este proyecto, tenemos la intención de emplear la estadística descriptiva, métodos supervisados explicativos y modelos de series de tiempo para analizar el comportamiento del precio de mercado de Ethereum. Además, realizaremos una comparación con Bitcoin y buscaremos predecir los precios futuros de esta criptomoneda. Para llevar a cabo este análisis, utilizaremos los   datos públicos obtenidos de Google Finance.\n",
    "</p>\n",
    "<p><sub><H3>Autor:</H3></sub>Juan Esteban Orduz Chavez</p>\n",
    "<p><sub><H3>Asesor Principal:</H3></sub>xd</p>\n",
    "<p><sub><H2>Introducción.</H2></sub>\n",
    "Durante los últimos años, se ha popularizado el término \"criptomoneda\". Estas criptomonedas son un tipo de moneda digital que utilizan técnicas de criptografía para asegurar las transacciones y controlar la creación de nuevas unidades. Estas técnicas criptográficas funcionan en base a una red descentralizada basada en la tecnología blockchain, lo que permite transacciones seguras y transparentes sin necesidad de intermediarios como bancos.Como cualquier tipo de producto, estas obtienen valor a partir del deseo de poseerlas que tienen las personas. Por lo mismo, el precio de mercado de estas criptomonedas dependerá de la oferta y la demanda de las mismas. Así pues, existe la posibilidad de obtener ganancias comprando o vendiendo criptomonedas, dependiendo de cómo varíe el precio en el futuro.\n",
    "</p>\n",
    "<p>    \n",
    "Debido a este último punto, es de gran importancia para distintos agentes de inversión poder predecir, con un margen de error bajo, el precio que\n",
    "tendrán las criptomonedas. En el caso particular de este proyecto, se enfoca en las criptomonedas Ethereum y Bitcoin, especialmente en la primera. \n",
    "El objetivo de este proyecto es llevar a cabo un estudio descriptivo de los precios de Ethereum y posteriormente modelar una predicción para su \n",
    "precio en el futuro.\n",
    "</p>\n",
    "<p><sub><H2>Descripción del Problema.</H2></sub>\n",
    "En este proyecto, abordamos el desafío de comprender y pronosticar el comportamiento del precio de mercado de Ethereum, una criptomoneda de gran relevancia. Para lograrlo, emplearemos un enfoque integral que combina técnicas de estadística descriptiva, métodos supervisados explicativos y posiblemente modelos de series de tiempo.\n",
    "</p>\n",
    "<p><sub><H2>Fuentes de Datos.</H2></sub>\n",
    "Los datos se obtendran mediante google finance de donde obtendremos archivos CVS,S   \n",
    "</p>\n",
    "</body>\n",
    "</html>"
   ]
  },
  {
   "cell_type": "code",
   "execution_count": 3,
   "id": "ac93b403-edb3-4fde-b145-ab48e425f2f0",
   "metadata": {},
   "outputs": [],
   "source": [
    "def xd(x,y):\n",
    "    s=x**y\n",
    "    return s"
   ]
  },
  {
   "cell_type": "code",
   "execution_count": 4,
   "id": "257cbb42-49b1-4c6b-a096-858c9ca052ca",
   "metadata": {},
   "outputs": [
    {
     "name": "stdout",
     "output_type": "stream",
     "text": [
      "8\n"
     ]
    }
   ],
   "source": [
    "print(xd(2,3))"
   ]
  }
 ],
 "metadata": {
  "kernelspec": {
   "display_name": "Python 3 (ipykernel)",
   "language": "python",
   "name": "python3"
  },
  "language_info": {
   "codemirror_mode": {
    "name": "ipython",
    "version": 3
   },
   "file_extension": ".py",
   "mimetype": "text/x-python",
   "name": "python",
   "nbconvert_exporter": "python",
   "pygments_lexer": "ipython3",
   "version": "3.11.3"
  }
 },
 "nbformat": 4,
 "nbformat_minor": 5
}
