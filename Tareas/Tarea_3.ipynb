{
 "cells": [
  {
   "cell_type": "markdown",
   "id": "2d284adb-cc0b-4f9c-9af4-869fb36edbfc",
   "metadata": {},
   "source": [
    "<html>\n",
    "<head>\n",
    "<H1><FONT COLOR=\"navy\">Análisis y Predicción de Precios de Etherium mediante Modelos de Series de Tiempo</FONT>\n",
    "</H1>\n",
    "</head>\n",
    "<body>\n",
    "<p>    \n",
    "<sub><H2>\n",
    "Reporte Número 1:\n",
    "</H2></sub>    \n",
    "En este proyecto, tenemos la intención de emplear la estadística descriptiva, métodos supervisados explicativos para analizar el comportamiento del precio de mercado de la criptomoneda Etherium. Además, buscamos utilizar módelos de series de tiempo para predecir los precios futuros de esta criptomoneda. Para llevar a cabo este análisis, utilizaremos los datos públicos obtenidos de Google Finance.\n",
    "<p><sub><H3>Autor:</H3></sub>Juan Esteban Orduz Chavez\n",
    "<p><sub><H3>Asesor Principal:</H3></sub> Aún por convenir.\n",
    "<p><sub><H2>Introducción.</H2></sub>\n",
    "Durante los últimos años, se ha popularizado el término \"criptomoneda\". Estas criptomonedas son un tipo de moneda digital que utilizan técnicas de criptografía para asegurar las transacciones y controlar la creación de nuevas unidades. Estas técnicas criptográficas funcionan en base a una red descentralizada basada en la tecnología blockchain, lo que permite transacciones seguras y transparentes sin necesidad de intermediarios como bancos.Como cualquier tipo de producto, estas obtienen valor a partir del deseo de poseerlas que tienen las personas. Por lo mismo, el precio de mercado de estas criptomonedas dependerá de la oferta y la demanda de las mismas. Así pues, existe la posibilidad de obtener ganancias comprando o vendiendo criptomonedas, dependiendo de cómo varíe el precio en el futuro.\n",
    "<p>    \n",
    "Debido a este último punto, es de gran importancia para distintos agentes de inversión poder predecir, con un margen de error bajo, el precio que tendrán las criptomonedas. En el caso particular de este proyecto, se enfoca en las criptomonedas Ethereum y Bitcoin, especialmente en la primera. El objetivo de este proyecto es llevar a cabo un estudio descriptivo de los precios de Ethereum y posteriormente modelar una predicción para su precio en el futuro.\n",
    "<p><sub><H2>Descripción del Problema.</H2></sub>\n",
    "Abordaremos el desafío de comprender y pronosticar el comportamiento del precio de mercado de Ethereum, una criptomoneda de gran relevancia. Para lograrlo, realizaremos primero un análisis descriptivo de los datos históricos de mercado de Ethereum y, posteriormente, intentaremos construir un modelo para predecir su comportamiento en el futuro.\n",
    "<p><sub><H2>Fuentes de Datos.</H2></sub>\n",
    "Los datos se obtendran mediante google finance de donde obtendremos archivos CVS y son de naturaleza pública, comparto la página con la información de Etherium: <a href='https://www.google.com/finance/quote/ETH-USD?hl=es&window=MAX'>Valor Historico de Precios Etherium</a>. Utilizando el comando en excel GOOGLEFINANCE().Estos datos son:<br> \n",
    "<UL TYPE=SQUARE>\n",
    "<LI><B>date:</B> sin ellas no serian series de tiempo.\n",
    "<LI><B>open:</B> precios con los que inicia el dia la criptomoneda.\n",
    "<LI><B>close:</B> precios con los que termina el día la criptomoneda.\n",
    "<LI><B>high:</B> el valor más alto a lo largo del día.\n",
    "<LI><B>low:</B> el valor más bajo a lo largo del día.\n",
    "<LI><B>Volume:</B> se refiere a la cantidad de transacciones de la criptomoneda entre compradores y vendedores a lo largo del día.\n",
    "</UL>\n",
    "<p><sub><H2>Proceso ETL.</H2></sub>\n",
    "El primer paso para llevar a cabo esto será tomar los datos históricos de los precios de mercado en dólares de Ethereum desde el año 2016 hasta la actualidad. Extraeremos estos datos a partir de la fuente pública de Google Finance, los descargaremos en formato CSV y, posteriormente, los cargaremos en JupyterLab. Una vez allí, los transformaremos en series de tiempo.\n",
    "<p><sub><H2>Exploración de Datos (EDA).</H2></sub>\n",
    "En el segundo paso, realizaremos un estudio preliminar de estadística descriptiva. En este análisis, obtendremos medidas de tendencia central como la media y evaluaremos la variabilidad a través de la varianza y la entropía. También presentaremos estos resultados de manera visual mediante diagramas de densidad. Además, intentaremos construir un Modelo Supervisado Explicativo de Regresión Polinomial.\n",
    "<p><sub><H2>Técnicas de Modelación Propuestas</H2></sub>\n",
    "Modelado en series de Tiempo, no ha sido definido aún porque no han sido discutidas con el asesor hasta ahora. Apesar de ello esperamos realizar una prueba de para comprobar si nuestra serie de tiempo es o no estacionaria (probablemente una prueba Dickey-Fuller Aumentada), dependiendo de dicho resultado construiriamos el modelo (posiblemente ARIMA o SARIMA).    \n",
    "<p><sub><H2>Conocimientos Requeridos para el Proyecto.</H2></sub>\n",
    "<UL TYPE=SQUARE>\n",
    "<LI>Estadística Descriptiva\n",
    "<LI>Desarrollo de módelos supervisados explicativos\n",
    "<LI>Econometría\n",
    "<LI>Programación orientada a objetos\n",
    "<LI>Analísis de Seríes Temporales\n",
    "<LI>Excel: (Básico)\n",
    "<LI>Python: (Intermedio)\n",
    "<LI>JupyterLab: (Intermedio)\n",
    "</UL>\n",
    "<p><sub><H2>Resultados Esperados.</sub></H2>\n",
    "Esperamos encontrar una función que describa el historico de precios para Etherium a travez de la regreción polinomial. Si es posible tambien diseñar un modelo más preciso a travez del análisis de series temporales, como por ejemplo el ya mencionado modelo de series temporales para Etherium.\n",
    "<p><sub><H2>Tiempo de Desarrollo Esperado.</sub></H2>\n",
    "Estimamos completar como mínimo las dos primeras partes, hasta llegar a el estudio exploratorio en las siguientes 2 semanas, en cuanto a la modelado para la serie de tiempo creemos que es posible realizarse en 3 semanas, junto con 1 semana para la creación del Dashboard para presentar los resultados, la totalidad del proyecto entonces, creemos es de 6 semanas, apartir de la fecha de entrega de este informe.\n",
    "</body>\n",
    "</html>"
   ]
  }
 ],
 "metadata": {
  "kernelspec": {
   "display_name": "Python 3 (ipykernel)",
   "language": "python",
   "name": "python3"
  },
  "language_info": {
   "codemirror_mode": {
    "name": "ipython",
    "version": 3
   },
   "file_extension": ".py",
   "mimetype": "text/x-python",
   "name": "python",
   "nbconvert_exporter": "python",
   "pygments_lexer": "ipython3",
   "version": "3.11.3"
  }
 },
 "nbformat": 4,
 "nbformat_minor": 5
}
