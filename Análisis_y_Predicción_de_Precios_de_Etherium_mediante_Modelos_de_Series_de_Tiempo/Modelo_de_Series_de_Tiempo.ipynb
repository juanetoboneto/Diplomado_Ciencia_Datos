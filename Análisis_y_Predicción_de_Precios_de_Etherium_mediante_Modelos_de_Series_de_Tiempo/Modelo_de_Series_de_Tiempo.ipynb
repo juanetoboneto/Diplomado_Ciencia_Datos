{
 "cells": [
  {
   "cell_type": "markdown",
   "id": "6af31543-c504-4df3-af37-8ddcc950d3d2",
   "metadata": {},
   "source": [
    "# Preparando los Datos.\n",
    "\n",
    "En el trabajo anterior no logramos obtener un modelo de pronóstico para nuestra serie de tiempo, esto se puede deber a que la cantidad de valores dichos datos es muy pequeña, asi que esta vez trabajaremos con una cantidad de datos algo mayor. Además, compararemos dicha serie de tiempo con los datos historicos de Bitcoin. "
   ]
  },
  {
   "cell_type": "code",
   "execution_count": 1,
   "id": "7e7f8d38-ef1c-4006-a2b1-0bd5f3479cce",
   "metadata": {},
   "outputs": [],
   "source": [
    "# Importemos todos los paquetes que necesitamos:\n",
    "\n",
    "# Paquetes Base para el trabajo:\n",
    "import pandas as pd\n",
    "import numpy as np\n",
    "import matplotlib.pyplot as plt\n",
    "\n",
    "# Paquetes para obtener nuestros Datos API\n",
    "import requests\n",
    "import json\n",
    "\n",
    "# Paquete Darts fundamental para trabajar Series de Tiempo:\n",
    "from darts import TimeSeries"
   ]
  },
  {
   "cell_type": "markdown",
   "id": "09cc8b6d-a0ec-405a-b8a5-157bb62bad6c",
   "metadata": {},
   "source": [
    "Paja acerca de como los datos que vamos a extraer:"
   ]
  },
  {
   "cell_type": "code",
   "execution_count": 2,
   "id": "40d9c1d6-4306-44f6-af45-a9a2ad26511f",
   "metadata": {
    "tags": []
   },
   "outputs": [],
   "source": [
    "# Extraigamos los datos de formatos csv locales:\n",
    "Etherium = pd.read_csv(r'C:\\Users\\User\\Desktop\\Diplomado_Ciencia_Datos\\Análisis_y_Predicción_de_Precios_de_Etherium_mediante_Modelos_de_Series_de_Tiempo\\Data_Sets\\eth-usd-max.csv')\n",
    "Bitcoin = pd.read_csv(r'C:\\Users\\User\\Desktop\\Diplomado_Ciencia_Datos\\Análisis_y_Predicción_de_Precios_de_Etherium_mediante_Modelos_de_Series_de_Tiempo\\Data_Sets\\btc-usd-max.csv')\n",
    "\n",
    "# Cambiando los nombres de las variables:\n",
    "Etherium = Etherium.rename(columns={'snapped_at': 'Fecha', 'price': 'Precio', 'market_cap': 'Capitalizacion', 'total_volume': 'Volumen'})\n",
    "Bitcoin = Bitcoin.rename(columns={'snapped_at': 'Fecha', 'price': 'Precio', 'market_cap': 'Capitalizacion', 'total_volume': 'Volumen'})\n",
    "\n",
    "# Arreglo para Etherium:\n",
    "Etherium['Fecha'] = Etherium['Fecha'].replace({'UTC':''}, regex=True)\n",
    "Etherium['Fecha'] = pd.to_datetime(Etherium['Fecha'], format='ISO8601')\n",
    "\n",
    "fecha_inicio = pd.to_datetime('2015-08-10')\n",
    "fecha_fin= pd.to_datetime('2023-09-05')\n",
    "\n",
    "Etherium = Etherium[(Etherium['Fecha'] >= fecha_inicio) & (Etherium['Fecha'] <= fecha_fin)]\n",
    "\n",
    "Etherium.index = Etherium['Fecha']\n",
    "Etherium = Etherium.drop(['Fecha'], axis=1)\n",
    "\n",
    "# Arreglo para Bitcoin:\n",
    "Bitcoin['Fecha'] = Bitcoin['Fecha'].replace({'UTC':''}, regex=True)\n",
    "Bitcoin['Fecha'] = pd.to_datetime(Bitcoin['Fecha'], format='ISO8601')\n",
    "\n",
    "Bitcoin = Bitcoin[(Bitcoin['Fecha'] >= fecha_inicio) & (Bitcoin['Fecha'] <= fecha_fin)]\n",
    "\n",
    "Bitcoin.index = Bitcoin['Fecha']\n",
    "Bitcoin = Bitcoin.drop(['Fecha'], axis=1)"
   ]
  },
  {
   "cell_type": "code",
   "execution_count": 3,
   "id": "7b47bc37-db6d-45b2-961e-96b32d87b104",
   "metadata": {
    "tags": []
   },
   "outputs": [
    {
     "name": "stdout",
     "output_type": "stream",
     "text": [
      "DatetimeIndex(['2015-08-10 00:00:00', '2015-08-11 00:00:00',\n",
      "               '2015-08-12 00:00:00', '2015-08-13 00:00:00',\n",
      "               '2015-08-14 00:00:00', '2015-08-15 00:00:00',\n",
      "               '2015-08-16 00:00:00', '2015-08-17 00:00:00',\n",
      "               '2015-08-18 00:00:00', '2015-08-19 00:00:00',\n",
      "               ...\n",
      "               '2023-08-27 00:00:00', '2023-08-28 00:00:00',\n",
      "               '2023-08-29 00:00:00', '2023-08-30 00:00:00',\n",
      "               '2023-08-31 00:00:00', '2023-09-01 00:00:00',\n",
      "               '2023-09-02 00:00:00', '2023-09-03 00:00:00',\n",
      "               '2023-09-04 00:00:00', '2023-09-05 00:00:00'],\n",
      "              dtype='datetime64[ns]', name='Fecha', length=2949, freq=None)\n"
     ]
    }
   ],
   "source": [
    "print(Etherium.index)"
   ]
  },
  {
   "cell_type": "markdown",
   "id": "45347398-62bb-46e0-a4bb-88c5f4451d3a",
   "metadata": {},
   "source": [
    "Sin embargo, blablabla, este index no funciona por lo cual debemos crear uno que se ajuste a una serie de tiempo de darts con frecuencia diaria:"
   ]
  },
  {
   "cell_type": "code",
   "execution_count": 4,
   "id": "b672a9e8-6738-4e28-be6a-008e792c240c",
   "metadata": {
    "tags": []
   },
   "outputs": [],
   "source": [
    "# Creemos una Variable de Tiempo con frecuencia Diaria que se ajuste a las fechas:\n",
    "fecha = pd.date_range(start=Etherium.index.min(), end=Etherium.index.max(), freq='D')\n",
    "\n",
    "# Reemplacemos el Index de nuestros datos de Etherium y Bitcoin por estas 'fechas':\n",
    "Etherium.index = fecha\n",
    "Bitcoin.index = fecha"
   ]
  },
  {
   "cell_type": "markdown",
   "id": "3fabcc89-3c12-4d44-9438-82fa8c9fdb63",
   "metadata": {},
   "source": [
    "Ahora debemos transformar estos datos en Series de Tiempo:"
   ]
  },
  {
   "cell_type": "code",
   "execution_count": 5,
   "id": "867c63df-8529-43f5-8533-b244ba8129be",
   "metadata": {
    "tags": []
   },
   "outputs": [],
   "source": [
    "# Crear las series de tiempo con Darts:\n",
    "TS_Etherium = TimeSeries.from_dataframe(Etherium, freq='D')\n",
    "TS_Bitcoin = TimeSeries.from_dataframe(Bitcoin, freq='D')"
   ]
  },
  {
   "cell_type": "markdown",
   "id": "b0a134d8-f156-4f97-ad1b-90a24a5c5af5",
   "metadata": {
    "tags": []
   },
   "source": [
    "## Buscando Otras Formas de Obtener Datos:\n",
    "Podemos intentar obtener datos atravez de APIs como sigue:"
   ]
  },
  {
   "cell_type": "code",
   "execution_count": 6,
   "id": "fc6dfb8e-5e4d-4f77-b1d3-daf3c0cd63e6",
   "metadata": {
    "tags": []
   },
   "outputs": [
    {
     "name": "stdout",
     "output_type": "stream",
     "text": [
      "{'Information': 'Thank you for using Alpha Vantage! This is a premium endpoint. You may subscribe to any of the premium plans at https://www.alphavantage.co/premium/ to instantly unlock all premium endpoints'}\n"
     ]
    }
   ],
   "source": [
    "url = 'https://www.alphavantage.co/query?function=CRYPTO_INTRADAY&symbol=ETH&market=USD&interval=5min&outputsize=full&apikey=EMLUJFB0MBBTTW4O'\n",
    "r = requests.get(url)\n",
    "data = r.json()\n",
    "\n",
    "print(data)"
   ]
  },
  {
   "cell_type": "markdown",
   "id": "0d3049f4-9576-4519-bab7-885ed0d28d9e",
   "metadata": {
    "tags": []
   },
   "source": [
    "Extrayendo los datos de mercado de Etherium y bitcoin:"
   ]
  },
  {
   "cell_type": "code",
   "execution_count": 7,
   "id": "87eb6840-e42b-43ad-8753-74912662e252",
   "metadata": {
    "tags": []
   },
   "outputs": [
    {
     "name": "stdout",
     "output_type": "stream",
     "text": [
      "Dataframe  de los Datos de Etherium:\n",
      "              1a. open (COP) 1b. open (USD)    2a. high (COP) 2b. high (USD)  \\\n",
      "2023-09-12  6189436.24800000  1551.84000000  6199447.25750000  1554.35000000   \n",
      "2023-09-11  6450998.79900000  1617.42000000  6457300.55000000  1619.00000000   \n",
      "2023-09-10  6523229.62850000  1635.53000000  6523907.66500000  1635.70000000   \n",
      "2023-09-09  6526819.23350000  1636.43000000  6531166.64400000  1637.52000000   \n",
      "2023-09-08  6573404.32950000  1648.11000000  6616559.35850000  1658.93000000   \n",
      "...                      ...            ...               ...            ...   \n",
      "2020-12-21  2545029.94500000   638.10000000  2584515.60000000   648.00000000   \n",
      "2020-12-20  2624599.52250000   658.05000000  2637920.94550000   661.39000000   \n",
      "2020-12-19  2607489.07200000   653.76000000  2672062.07750000   669.95000000   \n",
      "2020-12-18  2563416.69950000   642.71000000  2650763.75450000   664.61000000   \n",
      "2020-12-17  2541360.57100000   637.18000000  2697189.31250000   676.25000000   \n",
      "\n",
      "               3a. low (COP)  3b. low (USD)   4a. close (COP) 4b. close (USD)  \\\n",
      "2023-09-12  6180781.31150000  1549.67000000  6196934.53400000   1553.72000000   \n",
      "2023-09-11  6106356.83450000  1531.01000000  6189476.13250000   1551.85000000   \n",
      "2023-09-10  6381520.00000000  1600.00000000  6450998.79900000   1617.42000000   \n",
      "2023-09-09  6500136.50300000  1629.74000000  6523269.51300000   1635.54000000   \n",
      "2023-09-08  6446172.77450000  1616.21000000  6526859.11800000   1636.44000000   \n",
      "...                      ...            ...               ...             ...   \n",
      "2020-12-21  2376717.35500000   595.90000000  2423302.45100000    607.58000000   \n",
      "2020-12-20  2476867.33450000   621.01000000  2545349.02100000    638.18000000   \n",
      "2020-12-19  2574225.39900000   645.42000000  2624519.75350000    658.03000000   \n",
      "2020-12-18  2510330.43000000   629.40000000  2607848.03250000    653.85000000   \n",
      "2020-12-17  2495812.47200000   625.76000000  2563376.81500000    642.70000000   \n",
      "\n",
      "                   5. volume 6. market cap (USD)  \n",
      "2023-09-12     5197.87960000       5197.87960000  \n",
      "2023-09-11   417424.81890000     417424.81890000  \n",
      "2023-09-10   207957.84280000     207957.84280000  \n",
      "2023-09-09    58519.62290000      58519.62290000  \n",
      "2023-09-08   221570.04580000     221570.04580000  \n",
      "...                      ...                 ...  \n",
      "2020-12-21   843251.16565000     843251.16565000  \n",
      "2020-12-20   823958.22843000     823958.22843000  \n",
      "2020-12-19   858803.88459000     858803.88459000  \n",
      "2020-12-18  1000012.98018000    1000012.98018000  \n",
      "2020-12-17  2006130.01975000    2006130.01975000  \n",
      "\n",
      "[1000 rows x 10 columns]\n"
     ]
    }
   ],
   "source": [
    "# Extraigamos los datos de Etherium de la API:\n",
    "url_ETH = 'https://www.alphavantage.co/query?function=DIGITAL_CURRENCY_DAILY&symbol=ETH&market=COP&apikey=EMLUJFB0MBBTTW4O'\n",
    "r_ETH = requests.get(url_ETH)\n",
    "Etherium_json = r_ETH.json()\n",
    "\n",
    "# Revisemos cuales son las Tablas de Datos que nos proveyo el API:\n",
    "#print('Llaves para Implementar los Datos Etherium:')\n",
    "#for key in Etherium_json:\n",
    "#    print(key)\n",
    "    \n",
    "# Ahora los datos JSON de Alpha Vantage están en Etherium_json\n",
    "# Accede a la serie de tiempo diaria de BTC:\n",
    "Datos_Diarios_Etherium = Etherium_json['Time Series (Digital Currency Daily)']\n",
    "\n",
    "# Convierte los datos en un DataFrame:\n",
    "Etherium_API = pd.DataFrame(Datos_Diarios_Etherium).T  # Transpone para que las fechas sean filas y no columnas\n",
    "\n",
    "print('Dataframe  de los Datos de Etherium:')\n",
    "print(Etherium_API)\n",
    "\n",
    "# Extraigamos los datos de Etherium de la API:\n",
    "url_BTC = 'https://www.alphavantage.co/query?function=DIGITAL_CURRENCY_DAILY&symbol=BTC&market=COP&apikey=EMLUJFB0MBBTTW4O'\n",
    "r_BTC = requests.get(url_BTC)\n",
    "Bitcoin_json = r_BTC.json()\n",
    "\n",
    "# Revisemos cuales son las Tablas de Datos que nos proveyo el API:\n",
    "#print('Llaves para Implementar los Datos Etherium:')\n",
    "#for key in Bitcoin_json:\n",
    "#    print(key)\n",
    "    \n",
    "# Ahora los datos JSON de Alpha Vantage están en Etherium_json\n",
    "# Accede a la serie de tiempo diaria de BTC:\n",
    "Datos_Diarios_Bitcoin = Bitcoin_json['Time Series (Digital Currency Daily)']\n",
    "\n",
    "# Convierte los datos en un DataFrame:\n",
    "Bitcoin_API = pd.DataFrame(Datos_Diarios_Bitcoin).T  # Transpone para que las fechas sean filas y no columnas\n",
    "\n",
    "#print('Dataframe  de los Datos de Etherium:')\n",
    "#print(Bitcoin_API)"
   ]
  },
  {
   "cell_type": "code",
   "execution_count": 8,
   "id": "d224ac32-7fc8-495c-91d8-7d94711e9dc3",
   "metadata": {
    "tags": []
   },
   "outputs": [
    {
     "name": "stdout",
     "output_type": "stream",
     "text": [
      "1000\n",
      "1000\n"
     ]
    }
   ],
   "source": [
    "print(len(Etherium_API.index))\n",
    "print(len(Etherium_API))"
   ]
  },
  {
   "cell_type": "code",
   "execution_count": 9,
   "id": "c8d936be-1faf-460e-8b15-3680ac9a4651",
   "metadata": {
    "tags": []
   },
   "outputs": [
    {
     "ename": "ValueError",
     "evalue": "Lengths must match to compare",
     "output_type": "error",
     "traceback": [
      "\u001b[1;31m---------------------------------------------------------------------------\u001b[0m",
      "\u001b[1;31mValueError\u001b[0m                                Traceback (most recent call last)",
      "Cell \u001b[1;32mIn[9], line 3\u001b[0m\n\u001b[0;32m      1\u001b[0m \u001b[38;5;66;03m# Intentando transformar los datos en Series de Tiempo de Darts:\u001b[39;00m\n\u001b[0;32m      2\u001b[0m \u001b[38;5;66;03m# Crear la serie de tiempo con Darts\u001b[39;00m\n\u001b[1;32m----> 3\u001b[0m TS_Etherium_API \u001b[38;5;241m=\u001b[39m TimeSeries\u001b[38;5;241m.\u001b[39mfrom_dataframe(Etherium_API, time_col \u001b[38;5;241m=\u001b[39m Etherium_API\u001b[38;5;241m.\u001b[39mindex, freq\u001b[38;5;241m=\u001b[39m\u001b[38;5;124m'\u001b[39m\u001b[38;5;124mD\u001b[39m\u001b[38;5;124m'\u001b[39m)\n\u001b[0;32m      5\u001b[0m \u001b[38;5;66;03m# Verificar la serie de tiempo\u001b[39;00m\n\u001b[0;32m      6\u001b[0m \u001b[38;5;28mprint\u001b[39m(TS_Etherium_API)\n",
      "File \u001b[1;32m~\\anaconda3\\Lib\\site-packages\\darts\\timeseries.py:636\u001b[0m, in \u001b[0;36mTimeSeries.from_dataframe\u001b[1;34m(cls, df, time_col, value_cols, fill_missing_dates, freq, fillna_value, static_covariates, hierarchy)\u001b[0m\n\u001b[0;32m    634\u001b[0m \u001b[38;5;66;03m# get values\u001b[39;00m\n\u001b[0;32m    635\u001b[0m \u001b[38;5;28;01mif\u001b[39;00m value_cols \u001b[38;5;129;01mis\u001b[39;00m \u001b[38;5;28;01mNone\u001b[39;00m:\n\u001b[1;32m--> 636\u001b[0m     series_df \u001b[38;5;241m=\u001b[39m df\u001b[38;5;241m.\u001b[39mloc[:, df\u001b[38;5;241m.\u001b[39mcolumns \u001b[38;5;241m!=\u001b[39m time_col]\n\u001b[0;32m    637\u001b[0m \u001b[38;5;28;01melse\u001b[39;00m:\n\u001b[0;32m    638\u001b[0m     \u001b[38;5;28;01mif\u001b[39;00m \u001b[38;5;28misinstance\u001b[39m(value_cols, \u001b[38;5;28mstr\u001b[39m):\n",
      "File \u001b[1;32m~\\anaconda3\\Lib\\site-packages\\pandas\\core\\ops\\common.py:76\u001b[0m, in \u001b[0;36m_unpack_zerodim_and_defer.<locals>.new_method\u001b[1;34m(self, other)\u001b[0m\n\u001b[0;32m     72\u001b[0m             \u001b[38;5;28;01mreturn\u001b[39;00m \u001b[38;5;28mNotImplemented\u001b[39m\n\u001b[0;32m     74\u001b[0m other \u001b[38;5;241m=\u001b[39m item_from_zerodim(other)\n\u001b[1;32m---> 76\u001b[0m \u001b[38;5;28;01mreturn\u001b[39;00m method(\u001b[38;5;28mself\u001b[39m, other)\n",
      "File \u001b[1;32m~\\anaconda3\\Lib\\site-packages\\pandas\\core\\arraylike.py:44\u001b[0m, in \u001b[0;36mOpsMixin.__ne__\u001b[1;34m(self, other)\u001b[0m\n\u001b[0;32m     42\u001b[0m \u001b[38;5;129m@unpack_zerodim_and_defer\u001b[39m(\u001b[38;5;124m\"\u001b[39m\u001b[38;5;124m__ne__\u001b[39m\u001b[38;5;124m\"\u001b[39m)\n\u001b[0;32m     43\u001b[0m \u001b[38;5;28;01mdef\u001b[39;00m \u001b[38;5;21m__ne__\u001b[39m(\u001b[38;5;28mself\u001b[39m, other):\n\u001b[1;32m---> 44\u001b[0m     \u001b[38;5;28;01mreturn\u001b[39;00m \u001b[38;5;28mself\u001b[39m\u001b[38;5;241m.\u001b[39m_cmp_method(other, operator\u001b[38;5;241m.\u001b[39mne)\n",
      "File \u001b[1;32m~\\anaconda3\\Lib\\site-packages\\pandas\\core\\indexes\\base.py:7104\u001b[0m, in \u001b[0;36mIndex._cmp_method\u001b[1;34m(self, other, op)\u001b[0m\n\u001b[0;32m   7099\u001b[0m         \u001b[38;5;28;01mreturn\u001b[39;00m arr\n\u001b[0;32m   7101\u001b[0m \u001b[38;5;28;01mif\u001b[39;00m \u001b[38;5;28misinstance\u001b[39m(other, (np\u001b[38;5;241m.\u001b[39mndarray, Index, ABCSeries, ExtensionArray)) \u001b[38;5;129;01mand\u001b[39;00m \u001b[38;5;28mlen\u001b[39m(\n\u001b[0;32m   7102\u001b[0m     \u001b[38;5;28mself\u001b[39m\n\u001b[0;32m   7103\u001b[0m ) \u001b[38;5;241m!=\u001b[39m \u001b[38;5;28mlen\u001b[39m(other):\n\u001b[1;32m-> 7104\u001b[0m     \u001b[38;5;28;01mraise\u001b[39;00m \u001b[38;5;167;01mValueError\u001b[39;00m(\u001b[38;5;124m\"\u001b[39m\u001b[38;5;124mLengths must match to compare\u001b[39m\u001b[38;5;124m\"\u001b[39m)\n\u001b[0;32m   7106\u001b[0m \u001b[38;5;28;01mif\u001b[39;00m \u001b[38;5;129;01mnot\u001b[39;00m \u001b[38;5;28misinstance\u001b[39m(other, ABCMultiIndex):\n\u001b[0;32m   7107\u001b[0m     other \u001b[38;5;241m=\u001b[39m extract_array(other, extract_numpy\u001b[38;5;241m=\u001b[39m\u001b[38;5;28;01mTrue\u001b[39;00m)\n",
      "\u001b[1;31mValueError\u001b[0m: Lengths must match to compare"
     ]
    }
   ],
   "source": [
    "# Intentando transformar los datos en Series de Tiempo de Darts:\n",
    "# Crear la serie de tiempo con Darts\n",
    "TS_Etherium_API = TimeSeries.from_dataframe(Etherium_API, time_col = Etherium_API.index, freq='D')\n",
    "\n",
    "# Verificar la serie de tiempo\n",
    "print(TS_Etherium_API)"
   ]
  }
 ],
 "metadata": {
  "kernelspec": {
   "display_name": "Python 3 (ipykernel)",
   "language": "python",
   "name": "python3"
  },
  "language_info": {
   "codemirror_mode": {
    "name": "ipython",
    "version": 3
   },
   "file_extension": ".py",
   "mimetype": "text/x-python",
   "name": "python",
   "nbconvert_exporter": "python",
   "pygments_lexer": "ipython3",
   "version": "3.11.3"
  }
 },
 "nbformat": 4,
 "nbformat_minor": 5
}
